{
 "cells": [
  {
   "cell_type": "markdown",
   "id": "ee1b55cb",
   "metadata": {},
   "source": [
    "# Import packages"
   ]
  },
  {
   "cell_type": "code",
   "execution_count": 17,
   "id": "d501dbfb",
   "metadata": {},
   "outputs": [],
   "source": [
    "# Import packages\n",
    "import yfinance as yf\n",
    "import pandas as pd\n",
    "import matplotlib.pyplot as plt\n",
    "import numpy as np\n",
    "\n",
    "from statsmodels.tsa.holtwinters import SimpleExpSmoothing, Holt "
   ]
  },
  {
   "cell_type": "markdown",
   "id": "19b7525a",
   "metadata": {},
   "source": [
    "# Input data"
   ]
  },
  {
   "cell_type": "code",
   "execution_count": 15,
   "id": "e43c545c",
   "metadata": {},
   "outputs": [
    {
     "name": "stderr",
     "output_type": "stream",
     "text": [
      "[*********************100%%**********************]  1 of 1 completed\n"
     ]
    },
    {
     "data": {
      "image/png": "[encoded data removed]",
      "text/plain": [
       "<Figure size 432x288 with 1 Axes>"
      ]
     },
     "metadata": {
      "needs_background": "light"
     },
     "output_type": "display_data"
    }
   ],
   "source": [
    "# Get data\n",
    "data = yf.download('USDVND=X','2020-01-01','2022-12-31') # from 1 Jan 2021 to 31 December 2022\n",
    "df = data['Date''Adj Close']\n",
    "\n",
    "# Plot\n",
    "data['Adj Close'].plot()\n",
    "plt.title(\"USDxVND from 2020 to 2022\")\n",
    "plt.show()"
   ]
  },
  {
   "cell_type": "markdown",
   "id": "7a7812d2",
   "metadata": {},
   "source": [
    "# Exponential smoothing\n",
    "#### Double Exponential smoothing i.e. Holt's Linear Smoothing\n",
    "Use when there is trend in data, and no seasonality"
   ]
  },
  {
   "cell_type": "code",
   "execution_count": 16,
   "id": "384fb144",
   "metadata": {},
   "outputs": [
    {
     "name": "stderr",
     "output_type": "stream",
     "text": [
      "C:\\Users\\User\\anaconda3\\lib\\site-packages\\statsmodels\\tsa\\base\\tsa_model.py:471: ValueWarning: No frequency information was provided, so inferred frequency B will be used.\n",
      "  self._init_dates(dates, freq)\n"
     ]
    }
   ],
   "source": [
    "# Create class\n",
    "train = df.iloc[100:-10,:]\n",
    "test = df.iloc[-10:,:]\n",
    "train.index = pd.to_datetime(train.index)\n",
    "test.index = pd.to_datetime(test.index)\n",
    "pred = test.copy()\n",
    "\n",
    "model = SimpleExpSmoothing(data['Adj Close'])\n",
    "model_fit = model.fit() # fit model\n",
    "yhat = model_fit.predict()"
   ]
  },
  {
   "cell_type": "code",
   "execution_count": 14,
   "id": "241d5b97",
   "metadata": {},
   "outputs": [
    {
     "data": {
      "text/plain": [
       "2023-01-02    23602.409625\n",
       "Freq: B, dtype: float64"
      ]
     },
     "execution_count": 14,
     "metadata": {},
     "output_type": "execute_result"
    }
   ],
   "source": [
    "yhat"
   ]
  },
  {
   "cell_type": "code",
   "execution_count": 18,
   "id": "a1f5e6a0",
   "metadata": {},
   "outputs": [
    {
     "data": {
      "text/html": [
       "<div>\n",
       "<style scoped>\n",
       "    .dataframe tbody tr th:only-of-type {\n",
       "        vertical-align: middle;\n",
       "    }\n",
       "\n",
       "    .dataframe tbody tr th {\n",
       "        vertical-align: top;\n",
       "    }\n",
       "\n",
       "    .dataframe thead th {\n",
       "        text-align: right;\n",
       "    }\n",
       "</style>\n",
       "<table border=\"1\" class=\"dataframe\">\n",
       "  <thead>\n",
       "    <tr style=\"text-align: right;\">\n",
       "      <th></th>\n",
       "      <th>Open</th>\n",
       "      <th>High</th>\n",
       "      <th>Low</th>\n",
       "      <th>Close</th>\n",
       "      <th>Adj Close</th>\n",
       "      <th>Volume</th>\n",
       "    </tr>\n",
       "    <tr>\n",
       "      <th>Date</th>\n",
       "      <th></th>\n",
       "      <th></th>\n",
       "      <th></th>\n",
       "      <th></th>\n",
       "      <th></th>\n",
       "      <th></th>\n",
       "    </tr>\n",
       "  </thead>\n",
       "  <tbody>\n",
       "    <tr>\n",
       "      <th>2020-01-01</th>\n",
       "      <td>23171.000000</td>\n",
       "      <td>23171.0</td>\n",
       "      <td>23171.000000</td>\n",
       "      <td>23171.0</td>\n",
       "      <td>23171.0</td>\n",
       "      <td>0</td>\n",
       "    </tr>\n",
       "    <tr>\n",
       "      <th>2020-01-02</th>\n",
       "      <td>22835.800781</td>\n",
       "      <td>23171.0</td>\n",
       "      <td>22805.605469</td>\n",
       "      <td>23171.0</td>\n",
       "      <td>23171.0</td>\n",
       "      <td>0</td>\n",
       "    </tr>\n",
       "    <tr>\n",
       "      <th>2020-01-03</th>\n",
       "      <td>23171.000000</td>\n",
       "      <td>23171.0</td>\n",
       "      <td>22812.912109</td>\n",
       "      <td>23171.0</td>\n",
       "      <td>23171.0</td>\n",
       "      <td>0</td>\n",
       "    </tr>\n",
       "    <tr>\n",
       "      <th>2020-01-06</th>\n",
       "      <td>22744.150391</td>\n",
       "      <td>23171.0</td>\n",
       "      <td>22744.150391</td>\n",
       "      <td>23171.0</td>\n",
       "      <td>23171.0</td>\n",
       "      <td>0</td>\n",
       "    </tr>\n",
       "    <tr>\n",
       "      <th>2020-01-07</th>\n",
       "      <td>23171.000000</td>\n",
       "      <td>23171.0</td>\n",
       "      <td>22822.310547</td>\n",
       "      <td>23171.0</td>\n",
       "      <td>23171.0</td>\n",
       "      <td>0</td>\n",
       "    </tr>\n",
       "    <tr>\n",
       "      <th>...</th>\n",
       "      <td>...</td>\n",
       "      <td>...</td>\n",
       "      <td>...</td>\n",
       "      <td>...</td>\n",
       "      <td>...</td>\n",
       "      <td>...</td>\n",
       "    </tr>\n",
       "    <tr>\n",
       "      <th>2022-12-26</th>\n",
       "      <td>23560.000000</td>\n",
       "      <td>23645.0</td>\n",
       "      <td>23560.000000</td>\n",
       "      <td>23560.0</td>\n",
       "      <td>23560.0</td>\n",
       "      <td>0</td>\n",
       "    </tr>\n",
       "    <tr>\n",
       "      <th>2022-12-27</th>\n",
       "      <td>23590.000000</td>\n",
       "      <td>23602.0</td>\n",
       "      <td>23550.000000</td>\n",
       "      <td>23590.0</td>\n",
       "      <td>23590.0</td>\n",
       "      <td>0</td>\n",
       "    </tr>\n",
       "    <tr>\n",
       "      <th>2022-12-28</th>\n",
       "      <td>23580.000000</td>\n",
       "      <td>23625.0</td>\n",
       "      <td>23570.000000</td>\n",
       "      <td>23580.0</td>\n",
       "      <td>23580.0</td>\n",
       "      <td>0</td>\n",
       "    </tr>\n",
       "    <tr>\n",
       "      <th>2022-12-29</th>\n",
       "      <td>23620.000000</td>\n",
       "      <td>23660.0</td>\n",
       "      <td>23600.000000</td>\n",
       "      <td>23620.0</td>\n",
       "      <td>23620.0</td>\n",
       "      <td>0</td>\n",
       "    </tr>\n",
       "    <tr>\n",
       "      <th>2022-12-30</th>\n",
       "      <td>23600.000000</td>\n",
       "      <td>23630.0</td>\n",
       "      <td>23540.000000</td>\n",
       "      <td>23600.0</td>\n",
       "      <td>23600.0</td>\n",
       "      <td>0</td>\n",
       "    </tr>\n",
       "  </tbody>\n",
       "</table>\n",
       "<p>783 rows × 6 columns</p>\n",
       "</div>"
      ],
      "text/plain": [
       "                    Open     High           Low    Close  Adj Close  Volume\n",
       "Date                                                                       \n",
       "2020-01-01  23171.000000  23171.0  23171.000000  23171.0    23171.0       0\n",
       "2020-01-02  22835.800781  23171.0  22805.605469  23171.0    23171.0       0\n",
       "2020-01-03  23171.000000  23171.0  22812.912109  23171.0    23171.0       0\n",
       "2020-01-06  22744.150391  23171.0  22744.150391  23171.0    23171.0       0\n",
       "2020-01-07  23171.000000  23171.0  22822.310547  23171.0    23171.0       0\n",
       "...                  ...      ...           ...      ...        ...     ...\n",
       "2022-12-26  23560.000000  23645.0  23560.000000  23560.0    23560.0       0\n",
       "2022-12-27  23590.000000  23602.0  23550.000000  23590.0    23590.0       0\n",
       "2022-12-28  23580.000000  23625.0  23570.000000  23580.0    23580.0       0\n",
       "2022-12-29  23620.000000  23660.0  23600.000000  23620.0    23620.0       0\n",
       "2022-12-30  23600.000000  23630.0  23540.000000  23600.0    23600.0       0\n",
       "\n",
       "[783 rows x 6 columns]"
      ]
     },
     "execution_count": 18,
     "metadata": {},
     "output_type": "execute_result"
    }
   ],
   "source": [
    "data"
   ]
  },
  {
   "cell_type": "code",
   "execution_count": null,
   "id": "8719b2de",
   "metadata": {},
   "outputs": [],
   "source": [
    "a"
   ]
  }
 ],
 "metadata": {
  "kernelspec": {
   "display_name": "Python 3 (ipykernel)",
   "language": "python",
   "name": "python3"
  },
  "language_info": {
   "codemirror_mode": {
    "name": "ipython",
    "version": 3
   },
   "file_extension": ".py",
   "mimetype": "text/x-python",
   "name": "python",
   "nbconvert_exporter": "python",
   "pygments_lexer": "ipython3",
   "version": "3.9.12"
  }
 },
 "nbformat": 4,
 "nbformat_minor": 5
}
