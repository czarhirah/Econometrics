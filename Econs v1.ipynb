{
 "cells": [
  {
   "cell_type": "markdown",
   "id": "e104425d-d503-4710-9e8d-ed5d9f9f7a64",
   "metadata": {},
   "source": [
    "test file"
   ]
  },
  {
   "cell_type": "markdown",
   "id": "878504e0-f63c-4007-8a0f-acc5cfcac2cd",
   "metadata": {},
   "source": [
    "Hello world"
   ]
  }
 ],
 "metadata": {
  "kernelspec": {
   "display_name": "Python 3 (ipykernel)",
   "language": "python",
   "name": "python3"
  },
  "language_info": {
   "codemirror_mode": {
    "name": "ipython",
    "version": 3
   },
   "file_extension": ".py",
   "mimetype": "text/x-python",
   "name": "python",
   "nbconvert_exporter": "python",
   "pygments_lexer": "ipython3",
   "version": "3.11.7"
  }
 },
 "nbformat": 4,
 "nbformat_minor": 5
}
