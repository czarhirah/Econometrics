

# Clears console and variable
try:
    from IPython import get_ipython
    get_ipython().magic('clear')
    get_ipython().magic('reset -f')
except:
    pass
 
#%%
# Importing all necessary packages
    import requests
    import pandas as pd
    import yfinance as yf
    import matplotlib.pyplot as plt
    
#%%
# URL of the API endpoint
url = "https://www.imf.org/external/datamapper/api/v1/NGDPD/VNM"
 
# Sending a GET request to the API endpoint
response = requests.get(url)
 
# Checking if the request was successful (status code 200)
if response.status_code == 200:
    # Extracting JSON data from the response
    data = response.json()
 
    # Extracting values from the JSON data
    values = data['values']['NGDPD']['VNM']
 
    # Creating a pandas DataFrame from the extracted data
    gdp = pd.DataFrame(list(values.items()), columns=['Year', 'Nominal GDP (in current USD billions)'])
    # Converting 'Year' column to integer type
    gdp['Year'] = pd.to_numeric(gdp['Year'])
    # Narrowing down to 2003 onwards
    gdp = gdp[gdp['Year']>=2003]
    # Setting 'Year' column as index
    gdp.set_index('Year', inplace=True)
   
else:
    print("Failed to fetch data from the API.")
    
#%%    

# Extracting data from Yahoo Finance
try:
    # Fetch data for USD/VND using a different ticker symbol
    usd_vnd_data = yf.download('USDVND=X', start='2000-01-01', end='2024-03-19')
    
    # Extract Adjusted Close prices
    fxdata = usd_vnd_data['Adj Close']
    
    # Ensure the index is a DatetimeIndex
    fxdata.index = pd.to_datetime(fxdata.index)
    
    # Resample data annually and take the last value of each year
    fxdata = fxdata.resample('Y').last()
    
    # Rename column to 'Adjusted Close'
    fxdata.columns = ['Adjusted Close']
    
    # Extracting year from the index
    fxdata.index = fxdata.index.year
    
except Exception as e:
    print("An error occurred:", e)

#%%
# Combining Dataframes
finaldata = gdp.merge(fxdata, left_index=True, right_index=True)
finaldata.columns = ['X','Y']

#%%    
# Plotting GDP against FX
scatter = finaldata.plot(x='X', y='Y', kind='scatter', 
                         ylabel='Adjusted Close USDVND (Yearly)',
                         xlabel='Nominal GDP (Current USD billions)')

#%%
# Setting up dataframe for calculation
df = finaldata[['X','Y']].copy()

# Sample mean calculation
x_bar = df['X'].mean()
y_bar = df['Y'].mean()
                          
# Calculating beta (gradient of equation)
df['num'] = df['X'] * df['Y'] - y_bar * df['X']
df['den'] = pow(df['X'],2) - x_bar * df['X']
beta = df['num'].sum() / df['den'].sum()

# Calculating alpha (equation constant)
alpha = y_bar - beta * x_bar
                
# OLS solution
df['FX Rate Mean'] = alpha + beta * df['X'] #Regression equation
df['error'] = df['FX Rate Mean'] - df['Y']  #Error calculation

# Calculating R^2
SST = ((df['Y'] - y_bar) ** 2).sum()
SSR = (df['error'] ** 2).sum()
R_squared = 1 - (SSR / SST)

# Plotting OLS
fig, ax = plt.subplots()
scatter = df.plot(x='X', y='Y', kind='scatter', ax=ax, label='Actual FX Rate')  #Actual data
df.plot(x='X', y='FX Rate Mean', kind='line', ax=ax, color='g', label='FX Rate Mean')   #Regression plot
plt.vlines(df['X'], df['FX Rate Mean'], df['Y'], color='r')     #Error lines

# Adjusting plot labels
ax.set_xlabel('Nominal GDP (Current USD billions)')
ax.set_ylabel('Adjusted Close USDVND (Yearly)')

# Adding legend
plt.legend()

# Adding text box with R^2 value
plt.text(0.075, 0.82, f'$R^2 = {R_squared:.4f}$', transform=ax.transAxes, fontsize=10, verticalalignment='top')

# Adjust layout to prevent overlapping
#plt.tight_layout()  